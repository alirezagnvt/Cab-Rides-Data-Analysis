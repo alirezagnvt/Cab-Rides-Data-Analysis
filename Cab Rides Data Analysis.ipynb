{
 "cells": [
  {
   "cell_type": "code",
   "execution_count": null,
   "id": "5079455e",
   "metadata": {},
   "outputs": [],
   "source": [
    "import numpy as np\n",
    "import pandas as pd\n",
    "import matplotlib.pyplot as plt\n",
    "import plotly.express as px\n",
    "import plotly.graph_objects as go\n",
    "import plotly.io as pio\n",
    "import datetime as dt\n",
    "import warnings\n",
    "import seaborn as sns\n",
    "from sklearn import linear_model\n",
    "warnings.filterwarnings(\"ignore\")"
   ]
  },
  {
   "cell_type": "code",
   "execution_count": null,
   "id": "95e7efaa",
   "metadata": {},
   "outputs": [],
   "source": [
    "uber_data= pd.read_csv (\"cab_rides.csv\")\n",
    "uber_data.head(10)"
   ]
  },
  {
   "cell_type": "code",
   "execution_count": null,
   "id": "f917feed",
   "metadata": {},
   "outputs": [],
   "source": [
    "uber_data.columns"
   ]
  },
  {
   "cell_type": "code",
   "execution_count": null,
   "id": "cf4e66bf",
   "metadata": {},
   "outputs": [],
   "source": [
    "uber_data= uber_data[['id','product_id', 'name', 'source', 'time_stamp', 'cab_type', 'distance','destination', 'price', 'surge_multiplier', ]]"
   ]
  },
  {
   "cell_type": "code",
   "execution_count": null,
   "id": "b6e8dbad",
   "metadata": {},
   "outputs": [],
   "source": [
    "df= uber_data\n",
    "df.head()"
   ]
  },
  {
   "cell_type": "code",
   "execution_count": null,
   "id": "97a635c2",
   "metadata": {},
   "outputs": [],
   "source": [
    "df.drop(\"id\", axis=1, inplace=True)\n",
    "df.describe()"
   ]
  },
  {
   "cell_type": "code",
   "execution_count": null,
   "id": "a6d5fb2b",
   "metadata": {},
   "outputs": [],
   "source": [
    "df.info()"
   ]
  },
  {
   "cell_type": "code",
   "execution_count": null,
   "id": "ef86c9d6",
   "metadata": {},
   "outputs": [],
   "source": [
    "df.isnull().sum()"
   ]
  },
  {
   "cell_type": "code",
   "execution_count": null,
   "id": "46b3c6f4",
   "metadata": {},
   "outputs": [],
   "source": [
    "df.dropna().describe()"
   ]
  },
  {
   "cell_type": "code",
   "execution_count": null,
   "id": "4d82de23",
   "metadata": {},
   "outputs": [],
   "source": [
    "df['name'].value_counts()"
   ]
  },
  {
   "cell_type": "code",
   "execution_count": null,
   "id": "c73526b4",
   "metadata": {},
   "outputs": [],
   "source": [
    "df['source'].value_counts()\n"
   ]
  },
  {
   "cell_type": "code",
   "execution_count": null,
   "id": "96c73cda",
   "metadata": {},
   "outputs": [],
   "source": [
    "df['cab_type'].value_counts()\n"
   ]
  },
  {
   "cell_type": "code",
   "execution_count": null,
   "id": "74d8131d",
   "metadata": {},
   "outputs": [],
   "source": [
    "df['time_stamp'] = pd.to_datetime(df['time_stamp'], unit='ms')\n",
    "df['date']= df['time_stamp'].dt.date\n",
    "df['hour']= df['time_stamp'].dt.hour\n",
    "df.drop(\"time_stamp\", axis=1, inplace=True)\n",
    "df['weekday'] = df['date'].apply(lambda x: dt.datetime.strftime(x, '%A'))\n",
    "df.head()\n",
    "df= df[['name', 'source', 'date','weekday','hour', 'cab_type', 'distance','destination', 'price', 'surge_multiplier','product_id']]\n",
    "df.head(5)"
   ]
  },
  {
   "cell_type": "code",
   "execution_count": null,
   "id": "f5aac4cd",
   "metadata": {},
   "outputs": [],
   "source": [
    "df.price.mean()"
   ]
  },
  {
   "cell_type": "code",
   "execution_count": null,
   "id": "cc1c02e1",
   "metadata": {},
   "outputs": [],
   "source": [
    "group = df.groupby([df[\"cab_type\"],df[\"name\"]])\n",
    "group.mean()"
   ]
  },
  {
   "cell_type": "code",
   "execution_count": null,
   "id": "0c6293e4",
   "metadata": {},
   "outputs": [],
   "source": [
    "df[df.cab_type==\"Uber\"].price.mean()"
   ]
  },
  {
   "cell_type": "code",
   "execution_count": null,
   "id": "68936b49",
   "metadata": {},
   "outputs": [],
   "source": [
    "df[df.cab_type==\"Lyft\"].price.mean()"
   ]
  },
  {
   "cell_type": "code",
   "execution_count": null,
   "id": "99eed106",
   "metadata": {},
   "outputs": [],
   "source": [
    "group[[\"price\"]].mean().plot(kind=\"bar\")"
   ]
  },
  {
   "cell_type": "code",
   "execution_count": null,
   "id": "c4c6b521",
   "metadata": {},
   "outputs": [],
   "source": []
  },
  {
   "cell_type": "code",
   "execution_count": null,
   "id": "1415877c",
   "metadata": {},
   "outputs": [],
   "source": [
    "group1= group = df.groupby([df[\"cab_type\"],df[\"destination\"]])"
   ]
  },
  {
   "cell_type": "code",
   "execution_count": null,
   "id": "3fb08d72",
   "metadata": {},
   "outputs": [],
   "source": [
    "group1.mean()"
   ]
  },
  {
   "cell_type": "code",
   "execution_count": null,
   "id": "bb6f3509",
   "metadata": {},
   "outputs": [],
   "source": [
    "group1[\"distance\"].mean().plot(kind='bar')"
   ]
  },
  {
   "cell_type": "code",
   "execution_count": null,
   "id": "42d8cc23",
   "metadata": {},
   "outputs": [],
   "source": [
    "plt.figure(figsize=(14,4))\n",
    "for i,cab_type in enumerate(df['cab_type'].unique()):\n",
    "    plt.subplot(1,2,i+1)\n",
    "    sns.histplot(data=df,x=df[df['cab_type'] == cab_type]['hour'],bins=24)\n",
    "    plt.xlabel('Hours in month {}'.format(cab_type))\n",
    "    plt.ylabel('Total Rides')"
   ]
  },
  {
   "cell_type": "code",
   "execution_count": null,
   "id": "d46da1e5",
   "metadata": {},
   "outputs": [],
   "source": [
    "plt.figure(figsize=(25,60))\n",
    "for i,name in enumerate(df['name'].unique()):\n",
    "    plt.subplot(13,3,i+1)\n",
    "    sns.histplot(data=df,x=df[df['name'] == name]['weekday'],bins=24)\n",
    "    plt.xlabel('Hours in Type {}'.format(name))\n",
    "    plt.ylabel('Total Rides')"
   ]
  },
  {
   "cell_type": "code",
   "execution_count": null,
   "id": "4e85c785",
   "metadata": {},
   "outputs": [],
   "source": [
    "deepCopy = df.copy()\n",
    "shallowCopy = df.copy(deep=False)\n",
    "df1 = deepCopy.loc[deepCopy[\"cab_type\"] == \"Uber\"]\n",
    "df2 = shallowCopy.loc[shallowCopy[\"cab_type\"] == \"Lyft\"]"
   ]
  },
  {
   "cell_type": "code",
   "execution_count": null,
   "id": "b32d942f",
   "metadata": {},
   "outputs": [],
   "source": [
    "fig = px.density_heatmap(df1, x=\"weekday\", y=\"price\").update_layout(yaxis_range=[0,40],\n",
    "                                                                    title=\"Uber Price range on weekdays\",\n",
    "                                                                    xaxis_title=\"WEEKDAYS\",\n",
    "                                                                    yaxis_title=\"Price Range\",\n",
    "                                                                    font=dict( family=\"Open Sans, monospace\",\n",
    "                                                                              size=16, color=\"#135e96\"))\n",
    "fig.show()"
   ]
  },
  {
   "cell_type": "code",
   "execution_count": null,
   "id": "bba3e6d9",
   "metadata": {},
   "outputs": [],
   "source": [
    "fig1= px.density_heatmap(df2, x=\"weekday\", y=\"price\").update_layout(yaxis_range=[0,40],\n",
    "                                                                    title=\"Lyft Price range on weekdays\",\n",
    "                                                                    xaxis_title=\"WEEKDAYS\",\n",
    "                                                                    yaxis_title=\"Price Range\",\n",
    "                                                                    font=dict( family=\"Open Sans, monospace\",\n",
    "                                                                              size=16, color=\"#135e96\"))\n",
    "fig1.show()"
   ]
  },
  {
   "cell_type": "code",
   "execution_count": null,
   "id": "f0f0c34c",
   "metadata": {},
   "outputs": [],
   "source": [
    "fig2= px.scatter(df1, x=\"distance\", y=\"price\", color=\"name\").update_layout(yaxis_range=[0,100],\n",
    "                                                                           title=\"Uber Price range Based on the Distance\",\n",
    "                                                                    xaxis_title=\"Distance to the Destination\",\n",
    "                                                                    yaxis_title=\"Price Range\",\n",
    "                                                                    font=dict( family=\"Open Sans, monospace\",\n",
    "                                                                              size=16, color=\"#135e96\"))\n",
    "fig2.show()"
   ]
  },
  {
   "cell_type": "code",
   "execution_count": null,
   "id": "81262a87",
   "metadata": {},
   "outputs": [],
   "source": [
    "fig3= px.scatter(df2, x=\"distance\", y=\"price\", color=\"name\").update_layout(yaxis_range=[0,100],\n",
    "                                                                           title=\"Lyft Price range Based on the Distance\",\n",
    "                                                                    xaxis_title=\"Distance to the Destination\",\n",
    "                                                                    yaxis_title=\"Price Range\",\n",
    "                                                                    font=dict( family=\"Open Sans, monospace\",\n",
    "                                                                              size=16, color=\"#135e96\"))\n",
    "fig3.show()"
   ]
  },
  {
   "cell_type": "code",
   "execution_count": null,
   "id": "dd8ef38a",
   "metadata": {},
   "outputs": [],
   "source": [
    "fig4= px.scatter(df2, x=\"price\", y=\"destination\", color=\"surge_multiplier\",\n",
    "                 color_continuous_scale=px.colors.sequential.Cividis_r).update_layout(xaxis_range=[0,100],\n",
    "                                                                           title=\"When Surge Pricing Applied?\",\n",
    "                                                                    xaxis_title=\"Price\",\n",
    "                                                                    yaxis_title=\"Destination\",\n",
    "                                                                    font=dict( family=\"Open Sans, monospace\",\n",
    "                                                                              size=14, color=\"#135e96\"))\n",
    "fig4.show()"
   ]
  },
  {
   "cell_type": "code",
   "execution_count": null,
   "id": "b5ec5c4c",
   "metadata": {},
   "outputs": [],
   "source": [
    "fig5 = px.density_heatmap(df1, x=\"destination\", y=\"price\",\n",
    "                            nbinsx=20, nbinsy=20, color_continuous_scale=\"Viridis\").update_layout(yaxis_range=[0,50],\n",
    "                                                                           title=\"Heatmap Density of Uber Price Range by Destination\",\n",
    "                                                                    xaxis_title=\"Destination Type\",\n",
    "                                                                    yaxis_title=\"Price Range\",\n",
    "                                                                    font=dict( family=\"Open Sans, monospace\",\n",
    "                                                                              size=16, color=\"#135e96\"))\n",
    "fig5.show()"
   ]
  },
  {
   "cell_type": "code",
   "execution_count": null,
   "id": "51bac58c",
   "metadata": {},
   "outputs": [],
   "source": [
    "fig6 = px.density_heatmap(df2, x=\"destination\", y=\"price\",\n",
    "                            nbinsx=20, nbinsy=20, color_continuous_scale=\"Viridis\").update_layout(yaxis_range=[0,50],\n",
    "                                                                           title=\"Heatmap Density of Lyft Price Range by Destination\",\n",
    "                                                                    xaxis_title=\"Destination Type\",\n",
    "                                                                    yaxis_title=\"Price Range\",\n",
    "                                                                    font=dict( family=\"Open Sans, monospace\",\n",
    "                                                                              size=16, color=\"#135e96\"))\n",
    "fig6.show()"
   ]
  },
  {
   "cell_type": "code",
   "execution_count": null,
   "id": "0231b000",
   "metadata": {},
   "outputs": [],
   "source": [
    "corrmatrix, ax =plt.subplots(1,2,sharex=True, figsize=(18,5))\n",
    "sns.heatmap(df1.corr(),annot=True, ax=ax[0]).set(title='Uber Rides Correlation Matrix')\n",
    "sns.heatmap(df2.corr(),annot=True, ax=ax[1]).set_title(\"Lyft Rides Correlation Matrix\")\n",
    "corrmatrix.show()"
   ]
  },
  {
   "cell_type": "code",
   "execution_count": null,
   "id": "44611a1c",
   "metadata": {},
   "outputs": [],
   "source": []
  }
 ],
 "metadata": {
  "kernelspec": {
   "display_name": "Python 3 (ipykernel)",
   "language": "python",
   "name": "python3"
  },
  "language_info": {
   "codemirror_mode": {
    "name": "ipython",
    "version": 3
   },
   "file_extension": ".py",
   "mimetype": "text/x-python",
   "name": "python",
   "nbconvert_exporter": "python",
   "pygments_lexer": "ipython3",
   "version": "3.9.7"
  }
 },
 "nbformat": 4,
 "nbformat_minor": 5
}
